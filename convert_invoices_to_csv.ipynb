{
 "cells": [
  {
   "cell_type": "code",
   "execution_count": 1,
   "metadata": {},
   "outputs": [],
   "source": [
    "import gc\n",
    "import time\n",
    "import pandas as pd\n",
    "import numpy as np\n",
    "import seaborn as sns\n",
    "import random\n",
    "import matplotlib.pyplot as plt\n",
    "from sklearn.linear_model import LogisticRegression, LinearRegression\n",
    "from sklearn.model_selection import train_test_split, GridSearchCV\n",
    "import scikitplot as skplt\n",
    "from dateutil.relativedelta import *\n",
    "from scipy.stats import bernoulli\n",
    "from contextlib import contextmanager\n",
    "from datetime import timedelta\n",
    "from sklearn.preprocessing import StandardScaler\n",
    "from sklearn.metrics import accuracy_score, classification_report, confusion_matrix, precision_score\n",
    "from sklearn.ensemble import RandomForestRegressor, RandomForestClassifier\n",
    "from lifetimes.utils import summary_data_from_transaction_data"
   ]
  },
  {
   "cell_type": "code",
   "execution_count": 2,
   "metadata": {},
   "outputs": [],
   "source": [
    "@contextmanager\n",
    "def timer(name):\n",
    "    time_before_func_call = time.time()\n",
    "    yield\n",
    "    time_after_func_call = time.time()\n",
    "    print('{} - done in {:.0f}s'.format(name, time_after_func_call - time_before_func_call))"
   ]
  },
  {
   "cell_type": "code",
   "execution_count": 3,
   "metadata": {},
   "outputs": [],
   "source": [
    "def rename_columns(invoices: pd.DataFrame) -> pd.DataFrame:\n",
    "    invoices = invoices.copy()\n",
    "    column_names = list(invoices.columns)\n",
    "    if 'Customer ID' in column_names:\n",
    "        invoices = invoices.rename(columns={'Customer ID': 'CustomerID'})\n",
    "    if 'Invoice' in column_names:\n",
    "        invoices = invoices.rename(columns={'Invoice': 'InvoiceNo'})\n",
    "    if 'Price' in column_names:\n",
    "        invoices = invoices.rename(columns={'Price': 'UnitPrice'})\n",
    "\n",
    "    return invoices\n",
    "\n",
    "\n",
    "def concat_invoice_dataframes(invoices1: pd.DataFrame, invoices2: pd.DataFrame) -> pd.DataFrame:\n",
    "    invoices1, invoices2 = invoices1.copy(), invoices2.copy()\n",
    "    end_of_overlap_period = '2010-12-10'  # Specific to the two UCI online retail datasets\n",
    "\n",
    "    if invoices1.InvoiceDate.max() > invoices2.InvoiceDate.max():\n",
    "        invoices1 = invoices1[invoices1.InvoiceDate > end_of_overlap_period]\n",
    "        invoices = pd.concat([invoices2, invoices1])\n",
    "    else:\n",
    "        invoices2 = invoices2[invoices2.InvoiceDate > end_of_overlap_period]\n",
    "        invoices = pd.concat([invoices1, invoices2])\n",
    "\n",
    "    return invoices\n",
    "\n",
    "\n",
    "def add_revenue_column(invoices: pd.DataFrame) -> pd.DataFrame:\n",
    "    invoices = invoices.copy()\n",
    "    if \"Revenue\" not in list(invoices.columns):\n",
    "        invoices['Revenue'] = invoices['UnitPrice'] * invoices['Quantity']\n",
    "\n",
    "    return invoices\n",
    "\n",
    "\n",
    "def drop_test_invoices(invoices: pd.DataFrame) -> pd.DataFrame:\n",
    "    invoices = invoices.copy()\n",
    "    test_invoice_indexs = invoices[invoices['StockCode'].str.contains('TEST', case=False, na=False)].index\n",
    "    invoices = invoices.drop(index=test_invoice_indexs)\n",
    "\n",
    "    return invoices\n",
    "\n",
    "\n",
    "def drop_cancellation_invoices(invoices: pd.DataFrame) -> pd.DataFrame:\n",
    "    invoices = invoices.copy()\n",
    "    cancellation_invoice_indexs = invoices[invoices[\"InvoiceNo\"].str.contains('c', na=False, case=False)].index\n",
    "    invoices = invoices.drop(index=cancellation_invoice_indexs)\n",
    "\n",
    "    return invoices\n",
    "\n",
    "\n",
    "def drop_return_invoices(invoices: pd.DataFrame) -> pd.DataFrame:\n",
    "    invoices = invoices.copy()\n",
    "    invoices = invoices[invoices['UnitPrice'] > 0].copy()\n",
    "\n",
    "    return invoices\n",
    "\n",
    "\n",
    "def drop_non_numeric_invoice_numbers(invoices: pd.DataFrame) -> pd.DataFrame:\n",
    "    invoices = invoices.copy()\n",
    "    invoices = invoices[pd.to_numeric(invoices['InvoiceNo'], errors='coerce').notna()]\n",
    "    return invoices\n",
    "\n",
    "\n",
    "def clean_stock_codes(invoices):\n",
    "    invoices_copy = invoices.copy()\n",
    "    invoices_copy.drop(index=invoices_copy[invoices_copy.StockCode == 'C2'].index, inplace=True)\n",
    "    invoices_copy.drop(index=invoices_copy[invoices_copy.StockCode == 'C3'].index, inplace=True)\n",
    "    invoices_copy['StockCode'] = invoices_copy['StockCode'].str.replace(\"^\\D+$\", \"Not an Item\")\n",
    "    invoices_copy[\"StockCode\"] = invoices_copy[\"StockCode\"].str.replace(\"gift.*\", \"Not an Item\")\n",
    "    invoices_copy.drop(index=invoices_copy[invoices_copy.StockCode == 'Not an Item'].index, inplace=True)\n",
    "    invoices_copy['StockCode'] = invoices_copy['StockCode'].str.replace(\"\\D+$\", \"\")\n",
    "\n",
    "    return invoices_copy\n"
   ]
  },
  {
   "cell_type": "code",
   "execution_count": 4,
   "metadata": {},
   "outputs": [
    {
     "name": "stdout",
     "output_type": "stream",
     "text": [
      "Read invoice data - done in 124s\n",
      "Preprocess invoice dataframes - done in 5s\n"
     ]
    }
   ],
   "source": [
    "with timer(\"Read invoice data\"):\n",
    "    invoices_2011 = pd.read_excel(\"data/retail/Online_Retail.xlsx\")\n",
    "    invoices_2010 = pd.read_excel(\"data/retail/online_retail_II.xlsx\")\n",
    "    \n",
    "with timer(\"Preprocess invoice dataframes\"):\n",
    "    invoices_2010 = rename_columns(invoices_2010)\n",
    "    invoices = concat_invoice_dataframes(invoices_2010, invoices_2011)\n",
    "    invoices = add_revenue_column(invoices)\n",
    "    invoices['StockCode'] = invoices['StockCode'].astype(str)\n",
    "    invoices = drop_test_invoices(invoices)\n",
    "    invoices = drop_return_invoices(invoices)\n",
    "    invoices = drop_non_numeric_invoice_numbers(invoices)\n",
    "    invoices = clean_stock_codes(invoices)"
   ]
  },
  {
   "cell_type": "markdown",
   "metadata": {},
   "source": [
    "<br>\n",
    "<br>"
   ]
  },
  {
   "cell_type": "code",
   "execution_count": 5,
   "metadata": {},
   "outputs": [],
   "source": [
    "invoices.to_csv(\"invoices_2009_2011_no_returns.csv\", index=False)"
   ]
  }
 ],
 "metadata": {
  "kernelspec": {
   "display_name": "Python 3",
   "language": "python",
   "name": "python3"
  },
  "language_info": {
   "codemirror_mode": {
    "name": "ipython",
    "version": 3
   },
   "file_extension": ".py",
   "mimetype": "text/x-python",
   "name": "python",
   "nbconvert_exporter": "python",
   "pygments_lexer": "ipython3",
   "version": "3.7.4"
  }
 },
 "nbformat": 4,
 "nbformat_minor": 2
}
